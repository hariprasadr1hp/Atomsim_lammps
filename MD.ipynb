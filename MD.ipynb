{
 "cells": [
  {
   "cell_type": "markdown",
   "metadata": {},
   "source": [
    "# Atomistic Simulation"
   ]
  },
  {
   "cell_type": "markdown",
   "metadata": {},
   "source": [
    "## Task 2.1.1"
   ]
  },
  {
   "cell_type": "markdown",
   "metadata": {},
   "source": [
    "### Embedded Atom Model"
   ]
  },
  {
   "cell_type": "markdown",
   "metadata": {},
   "source": [
    "**Embedded Atom model(EAM)** is also an approximation describing the energy between the atoms, an interatomic potential. The energy is a function of sum of the functions, seperating an atom and its surrounding neighbours. \n",
    "\n",
    "EAM force-field based simulations provide a computatively effective descriptions in thermal, structural and metallic properties of mechanical systems.\n",
    "\n",
    "Within the EAM description, the evaluation of energy and forces, even for large assemblage of atoms can be computed."
   ]
  },
  {
   "cell_type": "markdown",
   "metadata": {},
   "source": [
    "#### Pros:"
   ]
  },
  {
   "cell_type": "markdown",
   "metadata": {},
   "source": [
    "**Over pair potential:**  The ability to describe the variation of the bond strength with coordination. Increase of coordination decreases the strength of the individual bonds and increases the bond length. \n",
    "\n",
    "In simulation, the potential energy of atom **i**, is given by\n",
    "\n",
    "$E_{i} = \\underbrace{[F_{i}*\\sum_{j\\neq i} f_{j}(r_{ij})]}_\\text{embedding energy} + \\underbrace{[\\dfrac{1}{2}*\\sum_{j\\neq i} \\phi_{ij}(r_{ij})]}_\\text{two-body term}$\n",
    "\n",
    "The **EAM Potential** can be Environmental dependent potential. EAM Calculations are able to span length and time scales inaccessible to first principles method."
   ]
  },
  {
   "cell_type": "markdown",
   "metadata": {},
   "source": [
    "### Effective medium Theory"
   ]
  },
  {
   "cell_type": "markdown",
   "metadata": {},
   "source": [
    "** Effective medium Theory(EMT)** describes the theoretical modelling of composite materials and determines the effective properties at random fields.\n",
    "\n",
    "The idea is to replace the inhomogeneous medium by equivalent homogeneous medium such that the fluctuation induced by restoring the heterogeneous averages to zero.\n",
    "\n",
    "It is based on the **electron density distribution** to the total energy and it gives a set of parameters per element for metals (describing the interaction of the element)\n",
    "\n",
    "$E_{total} = [F_{i}*\\sum_{j\\neq i} f_{j}(r_{ij})] + [\\dfrac{1}{2}*\\sum_{j\\neq i} \\phi(\\vec {R_{i}} - \\vec {R_{j}})]$\n",
    "\n",
    "Works best for purely meatllic system with no direction bonding. It doesn't handle fermi surface effects."
   ]
  },
  {
   "cell_type": "markdown",
   "metadata": {},
   "source": [
    "### Pair Potentials"
   ]
  },
  {
   "cell_type": "markdown",
   "metadata": {},
   "source": [
    "Pair potentials are mainly for inert gases, inter-molecular VanderWaals interaction in organic materials and for the investigation of general classes of effects.\n",
    "\n",
    "The total potential energy of a system of **N** atoms interacting via pair potential is,\n",
    "\n",
    "$u(\\vec r_{1},\\vec r_{2} \\ldots \\vec r_{N} ) = \\sum_{i} \\sum_{j>i} u_{2}(r_{ij})$"
   ]
  },
  {
   "cell_type": "markdown",
   "metadata": {},
   "source": [
    "### Examples of Pair Potentials:"
   ]
  },
  {
   "cell_type": "markdown",
   "metadata": {},
   "source": [
    "### Lennard Jones"
   ]
  },
  {
   "cell_type": "markdown",
   "metadata": {},
   "source": [
    "Vanderwaals interaction in inert gases and molecular system.\n",
    "\n",
    "$u(r_{ij}) = 4\\epsilon [(\\dfrac{\\sigma}{r_{ij}})^{12}-(\\dfrac{\\sigma}{r_{ij}})^{6}]$"
   ]
  },
  {
   "cell_type": "markdown",
   "metadata": {},
   "source": [
    "### Morse Potential"
   ]
  },
  {
   "cell_type": "markdown",
   "metadata": {},
   "source": [
    "Similar to L-J Potential, but more of a **bonding type** potential and is more suitable for cases when attractive interaction comes from the formation of the chemical bonds.\n",
    "\n",
    "$u(r_{ij}) = \\epsilon[{e^{-2\\alpha(r_{ij}-r_{0})}}-{2e^{-\\alpha(r_{ij}-r_{0})}}]$"
   ]
  },
  {
   "cell_type": "markdown",
   "metadata": {},
   "source": [
    "**Cons**: LJ potential provides a good description of vandervaals interaction, but fails to deal with the many body effects, which is available in many potentials. Many body effects can account upto 10% of the total energy"
   ]
  },
  {
   "cell_type": "markdown",
   "metadata": {},
   "source": [
    "### Limitations"
   ]
  },
  {
   "cell_type": "markdown",
   "metadata": {},
   "source": [
    "* Pair potentials do not have environmental dependence\n",
    "\n",
    "* They do not account generallly for the directional nature of the bond\n",
    "\n",
    "* They work better for metals in which cohesion is provided by s-orbital & p-orbital electrons\n"
   ]
  },
  {
   "cell_type": "markdown",
   "metadata": {},
   "source": [
    "## Task 2.1.2: Why are pair potential not suitable for the simulation of metals?"
   ]
  },
  {
   "cell_type": "markdown",
   "metadata": {},
   "source": [
    "Pair potential do not have an environmental dependence (eg. atom in the bulk is too similar to the atom on the surface or near a defect size). In reality, the strength of the indivudual bands should decrease as the local environment becomes too crowded due to the pauli's principle, but pair potentials do not depend on the environment and cannot account for this decrease.\n",
    "\n",
    "Pair potentials do not account for directional nature of the bond. Covalent contribution of transition metals cannot be described.\n",
    "\n",
    "Pair potentials do not work well because the electrons will be delocalized\n",
    "\n",
    "Advantage over semi-emphirical potentials : Pair potentials favour closely packed structures\n"
   ]
  },
  {
   "cell_type": "markdown",
   "metadata": {},
   "source": [
    "## Task 2.1.3: Potentials w.r.t Parameter identification and fitting"
   ]
  },
  {
   "cell_type": "markdown",
   "metadata": {},
   "source": [
    "[Answer](http://localhost:8888/tree/LJ.jpg) **Refer \"LJ.jpg\"**"
   ]
  },
  {
   "cell_type": "markdown",
   "metadata": {},
   "source": [
    "## Task 3.1: Determination of crystal structure and lattice constants"
   ]
  },
  {
   "cell_type": "markdown",
   "metadata": {},
   "source": [
    "Copper has an atomic radius $a = 132 pm$ in a cubic configuration"
   ]
  },
  {
   "cell_type": "markdown",
   "metadata": {},
   "source": [
    "### Simple Cubic(SC)"
   ]
  },
  {
   "cell_type": "markdown",
   "metadata": {},
   "source": [
    "The closest packed plane coincides with the cube plane.\n",
    "\n",
    "$\\therefore$ The closely packed plane in the simple cubic lattice(SC), the lattice constant, $l_{sc} = 2a$"
   ]
  },
  {
   "cell_type": "markdown",
   "metadata": {},
   "source": [
    "### Body-Centered Cubic(BCC)"
   ]
  },
  {
   "cell_type": "markdown",
   "metadata": {},
   "source": [
    "The atoms in BCC touch along the [body diagonal](http://localhost:8888/tree/bcc.jpg) ** Refer \"bcc.jpg\" **\n",
    "\n",
    "$l^2 + l^2 + l^2  = 3*(l^2) = (4a)^2$\n"
   ]
  },
  {
   "cell_type": "markdown",
   "metadata": {},
   "source": [
    "$\\therefore$ The closely packed plane in the body-centered cubic lattice(BCC), the lattice constant, $l_{bcc} = (4/\\sqrt3) a$"
   ]
  },
  {
   "cell_type": "markdown",
   "metadata": {},
   "source": [
    "### Face-Centered Cubic(FCC)"
   ]
  },
  {
   "cell_type": "markdown",
   "metadata": {},
   "source": [
    "The atoms in FCC touch along the [face diagonal](http://localhost:8888/tree/fcc.jpg) **Refer \"fcc.jpg\"**\n",
    "\n",
    "$l^2 + l^2 = 2*(l^2) = (4a)^2$\n"
   ]
  },
  {
   "cell_type": "markdown",
   "metadata": {},
   "source": [
    "$\\therefore$ The closely packed plane in the face-centered cubic lattice(FCC), the lattice constant, $l_{fcc} = 2 \\sqrt2 a$"
   ]
  },
  {
   "cell_type": "code",
   "execution_count": 1,
   "metadata": {},
   "outputs": [],
   "source": [
    "import numpy as np\n",
    "import matplotlib.pyplot as plt"
   ]
  },
  {
   "cell_type": "code",
   "execution_count": 2,
   "metadata": {
    "scrolled": true
   },
   "outputs": [
    {
     "name": "stdout",
     "output_type": "stream",
     "text": [
      "The lattice constant for SC,  l_sc  =  2.64  Angstrom\n",
      "The lattice constant for BCC, l_bcc =  3.04840942132  Angstrom\n",
      "The lattice constant for FCC, l_fcc =  3.73352380466  Angstrom\n"
     ]
    }
   ],
   "source": [
    "a = 1.32 \n",
    "l_sc = 2*a\n",
    "l_bcc = (4/np.sqrt(3))*a\n",
    "l_fcc = 2*np.sqrt(2)*a\n",
    "print(\"The lattice constant for SC,  l_sc  = \",l_sc,  \" Angstrom\")\n",
    "print(\"The lattice constant for BCC, l_bcc = \",l_bcc, \" Angstrom\")\n",
    "print(\"The lattice constant for FCC, l_fcc = \",l_fcc, \" Angstrom\")"
   ]
  },
  {
   "cell_type": "markdown",
   "metadata": {},
   "source": [
    "## Task 3.2 "
   ]
  },
  {
   "cell_type": "markdown",
   "metadata": {},
   "source": [
    "With the help of the obtained lattice constants for the different crystal structures, the potential energies are calibrated until it reaches the minimum potential using LAMMPS with the following files:\n",
    "* sc_min.in\n",
    "* bcc_min.in\n",
    "* fcc_min.in\n",
    "\n",
    "With the data obtained, the following graphs are plotted"
   ]
  },
  {
   "cell_type": "code",
   "execution_count": 3,
   "metadata": {},
   "outputs": [
    {
     "data": {
      "image/png": "[encoded data removed]",
      "text/plain": [
       "<matplotlib.figure.Figure at 0x7fed023173c8>"
      ]
     },
     "metadata": {},
     "output_type": "display_data"
    },
    {
     "name": "stdout",
     "output_type": "stream",
     "text": [
      "Minimum Potential Energy of SC    =  -3.106856 eV\n",
      "The corresponding lattice constant =  2.3928516 Angstrom\n"
     ]
    }
   ],
   "source": [
    "\"\"\"Plotting the energy-lattice constant plot for SC\"\"\"\n",
    "\n",
    "data = np.loadtxt(\"sc.txt\")\n",
    "fig = plt.figure()\n",
    "ax1 = fig.add_subplot(111)\n",
    "ax1.set_title(\"energy-lattice constant plot for SC\")    \n",
    "ax1.set_xlabel('Lattice Constant, l (in Angstrom)')\n",
    "ax1.set_ylabel('Potential Energy, W (in eV)')\n",
    "ax1.plot(data[:,3], data[:,4], c='r', label='SC')\n",
    "leg = ax1.legend()\n",
    "plt.show()\n",
    "sc_w = data[-1,4]\n",
    "sc_l = data[-1,3]\n",
    "print(\"Minimum Potential Energy of SC    = \",sc_w, \"eV\")\n",
    "print(\"The corresponding lattice constant = \",sc_l, \"Angstrom\")"
   ]
  },
  {
   "cell_type": "code",
   "execution_count": 4,
   "metadata": {},
   "outputs": [
    {
     "data": {
      "image/png": "[encoded data removed]",
      "text/plain": [
       "<matplotlib.figure.Figure at 0x7fed02615e10>"
      ]
     },
     "metadata": {},
     "output_type": "display_data"
    },
    {
     "name": "stdout",
     "output_type": "stream",
     "text": [
      "Minimum Potential Energy of BCC    =  -6.9889864 eV\n",
      "The corresponding lattice constant =  2.8682752 Angstrom\n"
     ]
    }
   ],
   "source": [
    "\"\"\"Plotting the energy-lattice constant plot for BCC\"\"\"\n",
    "\n",
    "data = np.loadtxt(\"bcc.txt\")\n",
    "fig = plt.figure()\n",
    "ax1 = fig.add_subplot(111)\n",
    "ax1.set_title(\"energy-lattice constant plot for BCC\")    \n",
    "ax1.set_xlabel('Lattice Constant, l (in Angstrom)')\n",
    "ax1.set_ylabel('Potential Energy, W (in eV)')\n",
    "ax1.plot(data[:,3], data[:,4], c='b', label='BCC')\n",
    "leg = ax1.legend()\n",
    "plt.show()\n",
    "bcc_w = data[-1,4]\n",
    "bcc_l = data[-1,3]\n",
    "print(\"Minimum Potential Energy of BCC    = \",bcc_w, \"eV\")\n",
    "print(\"The corresponding lattice constant = \",bcc_l, \"Angstrom\")"
   ]
  },
  {
   "cell_type": "code",
   "execution_count": 5,
   "metadata": {
    "scrolled": false
   },
   "outputs": [
    {
     "data": {
      "image/png": "[encoded data removed]",
      "text/plain": [
       "<matplotlib.figure.Figure at 0x7fed002d79e8>"
      ]
     },
     "metadata": {},
     "output_type": "display_data"
    },
    {
     "name": "stdout",
     "output_type": "stream",
     "text": [
      "Minimum Potential Energy of FCC    =  -14.16 eV\n",
      "The corresponding lattice constant =  3.615001 Angstrom\n"
     ]
    }
   ],
   "source": [
    "\"\"\"Plotting the energy-lattice constant plot for FCC\"\"\"\n",
    "\n",
    "data = np.loadtxt(\"fcc.txt\")\n",
    "fig = plt.figure()\n",
    "ax1 = fig.add_subplot(111)\n",
    "ax1.set_title(\"energy-lattice constant plot for FCC\")    \n",
    "ax1.set_xlabel('Lattice Constant, l (in Angstrom)')\n",
    "ax1.set_ylabel('Potential Energy, W (in eV)')\n",
    "ax1.plot(data[:,3], data[:,4], c='g', label='FCC')\n",
    "leg = ax1.legend()\n",
    "plt.show()\n",
    "fcc_w = data[-1,4]\n",
    "fcc_l = data[-1,3]\n",
    "print(\"Minimum Potential Energy of FCC    = \",fcc_w, \"eV\")\n",
    "print(\"The corresponding lattice constant = \",fcc_l, \"Angstrom\")"
   ]
  },
  {
   "cell_type": "markdown",
   "metadata": {},
   "source": [
    "Comparing the plots for different crystal structures, **FCC structure** has attained the lowest energy, as shown in the literature papers. "
   ]
  },
  {
   "cell_type": "markdown",
   "metadata": {},
   "source": [
    "## Task 3.3 & 3.4: Computation of Elastic Constants"
   ]
  },
  {
   "cell_type": "markdown",
   "metadata": {},
   "source": [
    "For an **isotropic material**,the components of the elastic stiffness tensor in Voigt notation\n",
    "\n",
    "${C_{iso}^{v}} =\n",
    "\\left[ \\begin{array}{cccc}\n",
    "C_{11} & C_{12} & C_{12} & 0                 & 0                 & 0       \\\\\n",
    "C_{12} & C_{11} & C_{12} & 0                 & 0                 & 0        \\\\\n",
    "C_{12} & C_{12} & C_{11} & 0                 & 0                 & 0         \\\\ \n",
    "0      & 0      & 0      & (C_{11}-C_{12})/2 & 0                 & 0          \\\\ \n",
    "0      & 0      & 0      & 0                 & (C_{11}-C_{12})/2 & 0                \\\\ \n",
    "0      & 0      & 0      & 0                 & 0                 & (C_{11}-C_{12})/2 \\\\ \n",
    "\\end{array} \\right]$"
   ]
  },
  {
   "cell_type": "markdown",
   "metadata": {},
   "source": [
    "The Strain Energy Density of the material is given by, \n",
    "\n",
    "$W^{e} = \\dfrac{1}{2} \\epsilon : {C_{iso}^{v}} :\\epsilon$\n",
    "\n",
    "Considering uni-axial strain distribution, \n",
    "\n",
    "${\\epsilon_{1} \\neq 0}$ ,\n",
    "\n",
    "${\\epsilon_{2,3,4,5,6} = 0}$"
   ]
  },
  {
   "cell_type": "markdown",
   "metadata": {},
   "source": [
    "$\\begin{equation}\n",
    "\\left[ \\begin{array}{cccc}\n",
    "\\sigma_{1}\\\\ \\sigma_{2}\\\\ \\sigma_{3}\\\\ \\sigma_{4}\\\\ \\sigma_{5}\\\\ \\sigma_{6}\\\\\n",
    "\\end{array} \\right]=\n",
    "\\left[ \\begin{array}{cccc}\n",
    "C_{11} & C_{12} & C_{12} & 0                 & 0                 & 0       \\\\\n",
    "C_{12} & C_{11} & C_{12} & 0                 & 0                 & 0        \\\\\n",
    "C_{12} & C_{12} & C_{11} & 0                 & 0                 & 0         \\\\ \n",
    "0      & 0      & 0      & (C_{11}-C_{12})/2 & 0                 & 0          \\\\ \n",
    "0      & 0      & 0      & 0                 & (C_{11}-C_{12})/2 & 0                \\\\ \n",
    "0      & 0      & 0      & 0                 & 0                 & (C_{11}-C_{12})/2 \\\\ \n",
    "\\end{array} \\right] \\cdot\n",
    "\\left[ \\begin{array}{cccc}\n",
    "\\epsilon_{1}\\\\ 0\\\\ 0\\\\ 0\\\\ 0\\\\ 0\\\\\n",
    "\\end{array} \\right]\n",
    "\\end{equation}$"
   ]
  },
  {
   "cell_type": "markdown",
   "metadata": {},
   "source": [
    "The following equations can be derived from the given matrix,\n",
    "\n",
    "$\\sigma_{1} = C_{11}* \\epsilon_{1}$"
   ]
  },
  {
   "cell_type": "markdown",
   "metadata": {},
   "source": [
    "The strain Energy density,\n",
    "\n",
    "$2*W^{e} = \\sigma_{1}\\epsilon_{1} + \\sigma_{2}\\epsilon_{2} \\ldots \\sigma_{6}\\epsilon_{6} = \\sigma_{1}\\epsilon_{1}$,\n",
    "\n",
    "$\\because$ all the other terms are zero."
   ]
  },
  {
   "cell_type": "markdown",
   "metadata": {},
   "source": [
    "$\\therefore$ $\\sigma_{1} = \\dfrac{2*W^{e}}{\\epsilon_{1}}$"
   ]
  },
  {
   "cell_type": "markdown",
   "metadata": {},
   "source": [
    "By substituting the $\\sigma_{1}$ value, we get\n",
    "\n",
    "$C_{11} = \\dfrac{2{W^e}}{{\\epsilon_1} \\cdot {\\epsilon_1}}$"
   ]
  },
  {
   "cell_type": "markdown",
   "metadata": {},
   "source": [
    "$\\therefore$ $\\epsilon_{1} = \\sqrt{\\dfrac{2W^{e}}{C_{11}}}$ "
   ]
  },
  {
   "cell_type": "markdown",
   "metadata": {},
   "source": [
    "By substituting the $\\epsilon_{1}$ value, we get\n",
    "\n",
    "$C_{12} = \\dfrac{\\sigma_{2}}{\\epsilon_{1}} = \\sigma_{2} * \\sqrt{\\dfrac{C_{11}}{2W^{e}}}$"
   ]
  },
  {
   "cell_type": "markdown",
   "metadata": {},
   "source": [
    "Thus, the lattice constants $C_{11}$ and $C_{12}$ are determined."
   ]
  },
  {
   "cell_type": "markdown",
   "metadata": {},
   "source": [
    "For a material of **cubic symmetry**,the components of the elastic stiffness tensor in Voigt notation\n",
    "\n",
    "${C_{ortho}^{v}} =\n",
    "\\left[ \\begin{array}{cccc}\n",
    "C_{11} & C_{12} & C_{12} & 0      & 0      & 0      \\\\\n",
    "C_{12} & C_{11} & C_{12} & 0      & 0      & 0      \\\\\n",
    "C_{12} & C_{12} & C_{11} & 0      & 0      & 0      \\\\ \n",
    "0      & 0      & 0      & C_{44} & 0      & 0      \\\\ \n",
    "0      & 0      & 0      & 0      & C_{44} & 0      \\\\ \n",
    "0      & 0      & 0      & 0      & 0      & C_{44} \\\\ \n",
    "\\end{array} \\right]$"
   ]
  },
  {
   "cell_type": "markdown",
   "metadata": {},
   "source": [
    "Considering a shear strain along yz plane alone, "
   ]
  },
  {
   "cell_type": "markdown",
   "metadata": {},
   "source": [
    "$\\left[ \\begin{array}{cccc}\n",
    "\\sigma_{1}\\\\ \\sigma_{2}\\\\ \\sigma_{3}\\\\ \\sigma_{4}\\\\ \\sigma_{5}\\\\ \\sigma_{6}\\\\\n",
    "\\end{array} \\right]=\n",
    "\\left[ \\begin{array}{cccc}\n",
    "C_{11} & C_{12} & C_{12} & 0      & 0      & 0      \\\\\n",
    "C_{12} & C_{11} & C_{12} & 0      & 0      & 0      \\\\\n",
    "C_{12} & C_{12} & C_{11} & 0      & 0      & 0      \\\\ \n",
    "0      & 0      & 0      & C_{44} & 0      & 0      \\\\ \n",
    "0      & 0      & 0      & 0      & C_{44} & 0      \\\\ \n",
    "0      & 0      & 0      & 0      & 0      & C_{44} \\\\ \n",
    "\\end{array} \\right] \\cdot\n",
    "\\left[ \\begin{array}{cccc}\n",
    "0\\\\ 0\\\\ 0\\\\ \\gamma_{1}\\\\ 0\\\\ 0\\\\\n",
    "\\end{array} \\right]$"
   ]
  },
  {
   "cell_type": "markdown",
   "metadata": {},
   "source": [
    "$\\sigma_{4} = C_{44}* \\gamma_{1} = C_{44}*2* \\epsilon_{4}$"
   ]
  },
  {
   "cell_type": "markdown",
   "metadata": {},
   "source": [
    "The strain Energy density,\n",
    "\n",
    "$W^{e} = \\sigma_{4}\\epsilon_{4}$ "
   ]
  },
  {
   "cell_type": "markdown",
   "metadata": {},
   "source": [
    "By substituting the $\\sigma_{4}$ value, we get\n",
    "\n",
    "$C_{44} = \\dfrac{W^e}{{2*\\epsilon_4} \\cdot {\\epsilon_4}}$"
   ]
  },
  {
   "cell_type": "markdown",
   "metadata": {},
   "source": [
    "## Task 3.5 & 3.6 "
   ]
  },
  {
   "cell_type": "markdown",
   "metadata": {},
   "source": [
    "With the newly determined lattice constant for FCC $ l_{o} = 3.615 \\unicode{x212B} $,"
   ]
  },
  {
   "cell_type": "markdown",
   "metadata": {},
   "source": [
    "The strain Energy Density values are generated for different value of strain using LAMMPS\n",
    "\n",
    "LAMMPS files to determine strain energy density for different stiffness  : \n",
    "* Cu_C11.in\n",
    "* Cu_C12.in\n",
    "* Cu_C44.in"
   ]
  },
  {
   "cell_type": "markdown",
   "metadata": {},
   "source": [
    "With the help of the data generated, the folling plots are plotted."
   ]
  },
  {
   "cell_type": "code",
   "execution_count": 28,
   "metadata": {},
   "outputs": [
    {
     "data": {
      "image/png": "[encoded data removed]",
      "text/plain": [
       "<matplotlib.figure.Figure at 0x7fef34d3a978>"
      ]
     },
     "metadata": {},
     "output_type": "display_data"
    },
    {
     "name": "stdout",
     "output_type": "stream",
     "text": [
      "The root mean square of C11 = 64181066541.3\n"
     ]
    }
   ],
   "source": [
    "\"\"\"Plotting the strain energy density-strain plot for computing C11\"\"\"\n",
    "\n",
    "data = np.loadtxt(\"c11.txt\")\n",
    "fig = plt.figure()\n",
    "ax1 = fig.add_subplot(111)\n",
    "ax1.set_title(\"strain energy density-strain plot for computing C11\")    \n",
    "ax1.set_xlabel('Strain')\n",
    "ax1.set_ylabel('Strain Energy Density, W (in N/mm2)')\n",
    "ax1.plot(data[:,1], data[:,3], c='g')\n",
    "plt.show()\n",
    "\n",
    "\"\"\"Computing RMS value for C11\"\"\"\n",
    "w = np.array(data[:,3])\n",
    "str = np.array(data[:,1])\n",
    "str2 = np.multiply(str,str)\n",
    "c11 = (2*w)/str2\n",
    "c11_s = 0\n",
    "for i in c11:\n",
    "    c11_s = c11_s+(i**2)\n",
    "c11_rms = np.sqrt(c11_s/len(c11))\n",
    "print(\"The root mean square of C11 =\",c11_rms)"
   ]
  },
  {
   "cell_type": "code",
   "execution_count": 29,
   "metadata": {},
   "outputs": [
    {
     "data": {
      "image/png": "[encoded data removed]",
      "text/plain": [
       "<matplotlib.figure.Figure at 0x7fef34f05198>"
      ]
     },
     "metadata": {},
     "output_type": "display_data"
    },
    {
     "name": "stdout",
     "output_type": "stream",
     "text": [
      "The root mean square of C12 = 64181066541.3\n"
     ]
    }
   ],
   "source": [
    "\"\"\"Plotting the strain energy density-strain plot for computing C12\"\"\"\n",
    "\n",
    "data = np.loadtxt(\"c12.txt\")\n",
    "fig = plt.figure()\n",
    "ax1 = fig.add_subplot(111)\n",
    "ax1.set_title(\"strain energy density-strain plot for computing C12\")    \n",
    "ax1.set_xlabel('Strain')\n",
    "ax1.set_ylabel('Strain Energy Density, W (in N/mm2)')\n",
    "ax1.plot(data[:,1], data[:,3], c='g')\n",
    "plt.show()\n",
    "\n",
    "\"\"\"Computing RMS value for C12\"\"\"\n",
    "w = np.array(data[:,3])\n",
    "str = np.array(data[:,1])\n",
    "str2 = np.multiply(str,str)\n",
    "c12 = (2*w)/str2\n",
    "c12_s = 0\n",
    "for i in c11:\n",
    "    c12_s = c12_s+(i**2)\n",
    "c12_rms = np.sqrt(c12_s/len(c12))\n",
    "print(\"The root mean square of C12 =\",c12_rms)"
   ]
  },
  {
   "cell_type": "code",
   "execution_count": 30,
   "metadata": {},
   "outputs": [
    {
     "data": {
      "image/png": "[encoded data removed]",
      "text/plain": [
       "<matplotlib.figure.Figure at 0x7fef34a8def0>"
      ]
     },
     "metadata": {},
     "output_type": "display_data"
    },
    {
     "name": "stdout",
     "output_type": "stream",
     "text": [
      "The root mean square of C44 = 1.90458781519e+14\n"
     ]
    }
   ],
   "source": [
    "\"\"\"Plotting the strain energy density-strain plot for computing C44\"\"\"\n",
    "\n",
    "data = np.loadtxt(\"c44.txt\")\n",
    "fig = plt.figure()\n",
    "ax1 = fig.add_subplot(111)\n",
    "ax1.set_title(\"strain energy density-strain plot for computing C44\")    \n",
    "ax1.set_xlabel('Strain')\n",
    "ax1.set_ylabel('Strain Energy Density, W (in N/mm2)')\n",
    "ax1.plot(data[:,8], data[:,3], c='g')\n",
    "plt.show()\n",
    "\n",
    "\n",
    "\"\"\"Computing RMS value for C44\"\"\"\n",
    "w = np.array(data[:,3])\n",
    "str = np.array(data[:,1])\n",
    "str2 = np.multiply(str,str)\n",
    "c44 = (2*w)/str2\n",
    "c44_s = 0\n",
    "for i in c44:\n",
    "    c44_s = c44_s+(i**2)\n",
    "c44_rms = np.sqrt(c44_s/len(c44))\n",
    "print(\"The root mean square of C44 =\",c44_rms)"
   ]
  },
  {
   "cell_type": "markdown",
   "metadata": {},
   "source": [
    "From the above plots, stiffness value C11, C12, C44 are computed.\n",
    "\n",
    "In the strain energy density-strain C11 plot, the strain values from 0 to 0.075, **the quadratic approximation is reasonable**."
   ]
  }
 ],
 "metadata": {
  "kernelspec": {
   "display_name": "Python 3",
   "language": "python",
   "name": "python3"
  },
  "language_info": {
   "codemirror_mode": {
    "name": "ipython",
    "version": 3
   },
   "file_extension": ".py",
   "mimetype": "text/x-python",
   "name": "python",
   "nbconvert_exporter": "python",
   "pygments_lexer": "ipython3",
   "version": "3.6.3"
  }
 },
 "nbformat": 4,
 "nbformat_minor": 2
}
